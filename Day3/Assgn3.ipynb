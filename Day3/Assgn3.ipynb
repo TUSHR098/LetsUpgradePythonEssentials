{
 "cells": [
  {
   "cell_type": "code",
   "execution_count": 4,
   "metadata": {},
   "outputs": [
    {
     "name": "stdout",
     "output_type": "stream",
     "text": [
      "Enter the value of numbers you want to add 5\n",
      "Enter number4\n",
      "4 --> 4\n",
      "Enter number7\n",
      "7 --> 11\n",
      "Enter number1\n",
      "1 --> 12\n",
      "Enter number3\n",
      "3 --> 15\n",
      "Enter number2\n",
      "2 --> 17\n",
      "\n",
      "The sum of 5 numbers is 17\n"
     ]
    }
   ],
   "source": [
    "n=eval(input(\"Enter the value of numbers you want to add \"))\n",
    "n1=n\n",
    "sum=0\n",
    "while (n>0):\n",
    "    num=eval(input(\"Enter number\"))\n",
    "    sum=sum+num\n",
    "    print(num,\"-->\",sum)\n",
    "    n-=1\n",
    "print(f\"\\nThe sum of {n1} numbers is {sum}\")"
   ]
  },
  {
   "cell_type": "code",
   "execution_count": 25,
   "metadata": {},
   "outputs": [
    {
     "name": "stdout",
     "output_type": "stream",
     "text": [
      "Enter number to find whether it is prime or not 23\n",
      "Number is prime\n"
     ]
    }
   ],
   "source": [
    "n=eval(input(\"Enter number to find whether it is prime or not \"))\n",
    "flag=0\n",
    "for i in range(2,n,1):\n",
    "    if (n%i)==0:\n",
    "        flag=1\n",
    "if (flag==1):\n",
    "    print(\"Number is not prime\")\n",
    "else:\n",
    "    print(\"Number is prime\")\n"
   ]
  },
  {
   "cell_type": "code",
   "execution_count": null,
   "metadata": {},
   "outputs": [],
   "source": []
  },
  {
   "cell_type": "code",
   "execution_count": null,
   "metadata": {},
   "outputs": [],
   "source": []
  }
 ],
 "metadata": {
  "kernelspec": {
   "display_name": "Python 3",
   "language": "python",
   "name": "python3"
  },
  "language_info": {
   "codemirror_mode": {
    "name": "ipython",
    "version": 3
   },
   "file_extension": ".py",
   "mimetype": "text/x-python",
   "name": "python",
   "nbconvert_exporter": "python",
   "pygments_lexer": "ipython3",
   "version": "3.7.4"
  }
 },
 "nbformat": 4,
 "nbformat_minor": 2
}
